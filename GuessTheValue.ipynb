{
 "cells": [
  {
   "cell_type": "code",
   "execution_count": 21,
   "id": "determined-fusion",
   "metadata": {},
   "outputs": [
    {
     "name": "stdin",
     "output_type": "stream",
     "text": [
      "Please enter the numerical value (between 1 and 1024) that you want to see how many guesses it takes the computer to correctly identify: 543\n"
     ]
    },
    {
     "name": "stdout",
     "output_type": "stream",
     "text": [
      "It took the computer 10 number of turns to guess your number!\n"
     ]
    },
    {
     "name": "stdin",
     "output_type": "stream",
     "text": [
      "Would you like to try this again? (Y/n) f\n"
     ]
    },
    {
     "name": "stdout",
     "output_type": "stream",
     "text": [
      "the only valid entries are y or n. Please try again!\n"
     ]
    },
    {
     "name": "stdin",
     "output_type": "stream",
     "text": [
      "Would you like to try this again? (Y/n) y\n",
      "Please enter the numerical value (between 1 and 1024) that you want to see how many guesses it takes the computer to correctly identify: 678\n"
     ]
    },
    {
     "name": "stdout",
     "output_type": "stream",
     "text": [
      "It took the computer 9 number of turns to guess your number!\n"
     ]
    },
    {
     "name": "stdin",
     "output_type": "stream",
     "text": [
      "Would you like to try this again? (Y/n) n\n"
     ]
    }
   ],
   "source": [
    "# Guess the Number Application\n",
    "\n",
    "# The input value validated\n",
    "def input_value():\n",
    "    inputValue = input(\"Please enter the numerical value (between 1 and 1024) that you want to see how many guesses it takes the computer to correctly identify:\")\n",
    "    \n",
    "    try:\n",
    "        isinstance(int(inputValue), int)\n",
    "    except ValueError:\n",
    "        print(\"This is not a valid integer value. Please try again!\")\n",
    "        input_value()\n",
    "\n",
    "    inputValue = int(inputValue)\n",
    "    \n",
    "    if ((inputValue > 1024) or (inputValue < 1)):\n",
    "        print(\"The value you entered is outside of the range (1 to 1024). Please try again!\")\n",
    "        input_value()\n",
    "    \n",
    "    return inputValue\n",
    "\n",
    "# Determine the midpoint\n",
    "def mid_point(top, bottom):\n",
    "    return int(round((top + bottom)/2,0))\n",
    "\n",
    "# The searcher\n",
    "def value_searcher(inputValue, turns=0, lower=0, upper=1024):\n",
    "    inputNumber = inputValue\n",
    "    turns += 1\n",
    "    bottom = lower\n",
    "    top = upper\n",
    "    mid = mid_point(lower, upper)\n",
    "    #the actual search decision\n",
    "    if (inputNumber == mid):\n",
    "        print(\"It took the computer\", turns, 'number of turns to guess your number!')\n",
    "        play_again()\n",
    "    elif (inputNumber > mid):\n",
    "        bottom = mid\n",
    "        value_searcher(inputNumber, turns, bottom, top)\n",
    "    elif (inputNumber < mid):\n",
    "        top = mid\n",
    "        value_searcher(inputNumber, turns, bottom, top) \n",
    "    return\n",
    "\n",
    "def play_again():\n",
    "    playAgain = input(\"Would you like to try this again? (Y/n)\")\n",
    "    playAgain = playAgain.upper()\n",
    "    \n",
    "    if not((playAgain == 'Y') or (playAgain == 'N')):\n",
    "        print(\"the only valid entries are y or n. Please try again!\")\n",
    "        play_again()\n",
    "    \n",
    "    if(playAgain == 'Y'):\n",
    "        value_searcher(input_value(), 0)\n",
    "    elif():\n",
    "        sys.exit()\n",
    "\n",
    "\n",
    "\n",
    "# Main method\n",
    "if __name__=='__main__':\n",
    "    value_searcher(input_value(), 0)"
   ]
  }
 ],
 "metadata": {
  "kernelspec": {
   "display_name": "Python 3",
   "language": "python",
   "name": "python3"
  },
  "language_info": {
   "codemirror_mode": {
    "name": "ipython",
    "version": 3
   },
   "file_extension": ".py",
   "mimetype": "text/x-python",
   "name": "python",
   "nbconvert_exporter": "python",
   "pygments_lexer": "ipython3",
   "version": "3.8.5"
  }
 },
 "nbformat": 4,
 "nbformat_minor": 5
}
